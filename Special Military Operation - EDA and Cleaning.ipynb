{
 "cells": [
  {
   "cell_type": "code",
   "execution_count": 1,
   "id": "ff0af351",
   "metadata": {},
   "outputs": [],
   "source": [
    "import pandas as pd\n",
    "import numpy as np\n",
    "import matplotlib.pyplot as plt\n",
    "import seaborn as sns\n",
    "import datetime as dt\n",
    "import warnings\n",
    "warnings.filterwarnings('ignore')"
   ]
  },
  {
   "cell_type": "code",
   "execution_count": 2,
   "id": "5f8881d6",
   "metadata": {},
   "outputs": [],
   "source": [
    "smo_people = pd.read_csv('Raw Datasets/russia_losses_personnel.csv')\n",
    "smo_equipment = pd.read_csv('Raw Datasets/russia_losses_equipment.csv')"
   ]
  },
  {
   "cell_type": "code",
   "execution_count": 3,
   "id": "cb2a3dc7",
   "metadata": {},
   "outputs": [
    {
     "data": {
      "text/html": [
       "<div>\n",
       "<style scoped>\n",
       "    .dataframe tbody tr th:only-of-type {\n",
       "        vertical-align: middle;\n",
       "    }\n",
       "\n",
       "    .dataframe tbody tr th {\n",
       "        vertical-align: top;\n",
       "    }\n",
       "\n",
       "    .dataframe thead th {\n",
       "        text-align: right;\n",
       "    }\n",
       "</style>\n",
       "<table border=\"1\" class=\"dataframe\">\n",
       "  <thead>\n",
       "    <tr style=\"text-align: right;\">\n",
       "      <th></th>\n",
       "      <th>date</th>\n",
       "      <th>day</th>\n",
       "      <th>personnel</th>\n",
       "      <th>personnel*</th>\n",
       "      <th>POW</th>\n",
       "    </tr>\n",
       "  </thead>\n",
       "  <tbody>\n",
       "    <tr>\n",
       "      <th>134</th>\n",
       "      <td>2022-07-09</td>\n",
       "      <td>136</td>\n",
       "      <td>37200</td>\n",
       "      <td>about</td>\n",
       "      <td>NaN</td>\n",
       "    </tr>\n",
       "    <tr>\n",
       "      <th>20</th>\n",
       "      <td>2022-03-17</td>\n",
       "      <td>22</td>\n",
       "      <td>14000</td>\n",
       "      <td>about</td>\n",
       "      <td>405.0</td>\n",
       "    </tr>\n",
       "    <tr>\n",
       "      <th>165</th>\n",
       "      <td>2022-08-09</td>\n",
       "      <td>167</td>\n",
       "      <td>42640</td>\n",
       "      <td>about</td>\n",
       "      <td>NaN</td>\n",
       "    </tr>\n",
       "    <tr>\n",
       "      <th>126</th>\n",
       "      <td>2022-07-01</td>\n",
       "      <td>128</td>\n",
       "      <td>35750</td>\n",
       "      <td>about</td>\n",
       "      <td>NaN</td>\n",
       "    </tr>\n",
       "    <tr>\n",
       "      <th>140</th>\n",
       "      <td>2022-07-15</td>\n",
       "      <td>142</td>\n",
       "      <td>38000</td>\n",
       "      <td>about</td>\n",
       "      <td>NaN</td>\n",
       "    </tr>\n",
       "  </tbody>\n",
       "</table>\n",
       "</div>"
      ],
      "text/plain": [
       "           date  day  personnel personnel*    POW\n",
       "134  2022-07-09  136      37200      about    NaN\n",
       "20   2022-03-17   22      14000      about  405.0\n",
       "165  2022-08-09  167      42640      about    NaN\n",
       "126  2022-07-01  128      35750      about    NaN\n",
       "140  2022-07-15  142      38000      about    NaN"
      ]
     },
     "execution_count": 3,
     "metadata": {},
     "output_type": "execute_result"
    }
   ],
   "source": [
    "smo_people.sample(5)"
   ]
  },
  {
   "cell_type": "code",
   "execution_count": 4,
   "id": "0943b610",
   "metadata": {},
   "outputs": [
    {
     "data": {
      "text/html": [
       "<div>\n",
       "<style scoped>\n",
       "    .dataframe tbody tr th:only-of-type {\n",
       "        vertical-align: middle;\n",
       "    }\n",
       "\n",
       "    .dataframe tbody tr th {\n",
       "        vertical-align: top;\n",
       "    }\n",
       "\n",
       "    .dataframe thead th {\n",
       "        text-align: right;\n",
       "    }\n",
       "</style>\n",
       "<table border=\"1\" class=\"dataframe\">\n",
       "  <thead>\n",
       "    <tr style=\"text-align: right;\">\n",
       "      <th></th>\n",
       "      <th>date</th>\n",
       "      <th>day</th>\n",
       "      <th>aircraft</th>\n",
       "      <th>helicopter</th>\n",
       "      <th>tank</th>\n",
       "      <th>APC</th>\n",
       "      <th>field artillery</th>\n",
       "      <th>MRL</th>\n",
       "      <th>military auto</th>\n",
       "      <th>fuel tank</th>\n",
       "      <th>drone</th>\n",
       "      <th>naval ship</th>\n",
       "      <th>anti-aircraft warfare</th>\n",
       "      <th>special equipment</th>\n",
       "      <th>mobile SRBM system</th>\n",
       "      <th>greatest losses direction</th>\n",
       "      <th>vehicles and fuel tanks</th>\n",
       "      <th>cruise missiles</th>\n",
       "    </tr>\n",
       "  </thead>\n",
       "  <tbody>\n",
       "    <tr>\n",
       "      <th>53</th>\n",
       "      <td>2022-04-19</td>\n",
       "      <td>55</td>\n",
       "      <td>169</td>\n",
       "      <td>150</td>\n",
       "      <td>802</td>\n",
       "      <td>2063</td>\n",
       "      <td>386</td>\n",
       "      <td>132</td>\n",
       "      <td>1495.0</td>\n",
       "      <td>76.0</td>\n",
       "      <td>158</td>\n",
       "      <td>8</td>\n",
       "      <td>67</td>\n",
       "      <td>27.0</td>\n",
       "      <td>4.0</td>\n",
       "      <td>NaN</td>\n",
       "      <td>NaN</td>\n",
       "      <td>NaN</td>\n",
       "    </tr>\n",
       "    <tr>\n",
       "      <th>193</th>\n",
       "      <td>2022-09-06</td>\n",
       "      <td>195</td>\n",
       "      <td>236</td>\n",
       "      <td>207</td>\n",
       "      <td>2077</td>\n",
       "      <td>4484</td>\n",
       "      <td>1179</td>\n",
       "      <td>296</td>\n",
       "      <td>NaN</td>\n",
       "      <td>NaN</td>\n",
       "      <td>876</td>\n",
       "      <td>15</td>\n",
       "      <td>156</td>\n",
       "      <td>109.0</td>\n",
       "      <td>NaN</td>\n",
       "      <td>Donetsk</td>\n",
       "      <td>3305.0</td>\n",
       "      <td>209.0</td>\n",
       "    </tr>\n",
       "    <tr>\n",
       "      <th>168</th>\n",
       "      <td>2022-08-12</td>\n",
       "      <td>170</td>\n",
       "      <td>233</td>\n",
       "      <td>193</td>\n",
       "      <td>1849</td>\n",
       "      <td>4108</td>\n",
       "      <td>975</td>\n",
       "      <td>261</td>\n",
       "      <td>NaN</td>\n",
       "      <td>NaN</td>\n",
       "      <td>778</td>\n",
       "      <td>15</td>\n",
       "      <td>136</td>\n",
       "      <td>90.0</td>\n",
       "      <td>NaN</td>\n",
       "      <td>Donetsk</td>\n",
       "      <td>3021.0</td>\n",
       "      <td>185.0</td>\n",
       "    </tr>\n",
       "    <tr>\n",
       "      <th>107</th>\n",
       "      <td>2022-06-12</td>\n",
       "      <td>109</td>\n",
       "      <td>212</td>\n",
       "      <td>178</td>\n",
       "      <td>1430</td>\n",
       "      <td>3484</td>\n",
       "      <td>715</td>\n",
       "      <td>226</td>\n",
       "      <td>NaN</td>\n",
       "      <td>NaN</td>\n",
       "      <td>582</td>\n",
       "      <td>13</td>\n",
       "      <td>97</td>\n",
       "      <td>54.0</td>\n",
       "      <td>NaN</td>\n",
       "      <td>Sievierodonetsk and Bakhmut</td>\n",
       "      <td>2455.0</td>\n",
       "      <td>125.0</td>\n",
       "    </tr>\n",
       "    <tr>\n",
       "      <th>160</th>\n",
       "      <td>2022-08-04</td>\n",
       "      <td>162</td>\n",
       "      <td>223</td>\n",
       "      <td>191</td>\n",
       "      <td>1789</td>\n",
       "      <td>4026</td>\n",
       "      <td>946</td>\n",
       "      <td>260</td>\n",
       "      <td>NaN</td>\n",
       "      <td>NaN</td>\n",
       "      <td>742</td>\n",
       "      <td>15</td>\n",
       "      <td>118</td>\n",
       "      <td>83.0</td>\n",
       "      <td>NaN</td>\n",
       "      <td>Bakhmut and Donetsk</td>\n",
       "      <td>2960.0</td>\n",
       "      <td>182.0</td>\n",
       "    </tr>\n",
       "  </tbody>\n",
       "</table>\n",
       "</div>"
      ],
      "text/plain": [
       "           date  day  aircraft  helicopter  tank   APC  field artillery  MRL  \\\n",
       "53   2022-04-19   55       169         150   802  2063              386  132   \n",
       "193  2022-09-06  195       236         207  2077  4484             1179  296   \n",
       "168  2022-08-12  170       233         193  1849  4108              975  261   \n",
       "107  2022-06-12  109       212         178  1430  3484              715  226   \n",
       "160  2022-08-04  162       223         191  1789  4026              946  260   \n",
       "\n",
       "     military auto  fuel tank  drone  naval ship  anti-aircraft warfare  \\\n",
       "53          1495.0       76.0    158           8                     67   \n",
       "193            NaN        NaN    876          15                    156   \n",
       "168            NaN        NaN    778          15                    136   \n",
       "107            NaN        NaN    582          13                     97   \n",
       "160            NaN        NaN    742          15                    118   \n",
       "\n",
       "     special equipment  mobile SRBM system    greatest losses direction  \\\n",
       "53                27.0                 4.0                          NaN   \n",
       "193              109.0                 NaN                      Donetsk   \n",
       "168               90.0                 NaN                      Donetsk   \n",
       "107               54.0                 NaN  Sievierodonetsk and Bakhmut   \n",
       "160               83.0                 NaN          Bakhmut and Donetsk   \n",
       "\n",
       "     vehicles and fuel tanks  cruise missiles  \n",
       "53                       NaN              NaN  \n",
       "193                   3305.0            209.0  \n",
       "168                   3021.0            185.0  \n",
       "107                   2455.0            125.0  \n",
       "160                   2960.0            182.0  "
      ]
     },
     "execution_count": 4,
     "metadata": {},
     "output_type": "execute_result"
    }
   ],
   "source": [
    "smo_equipment.sample(5)"
   ]
  },
  {
   "cell_type": "code",
   "execution_count": 5,
   "id": "4fbcaf4f",
   "metadata": {
    "scrolled": true
   },
   "outputs": [
    {
     "name": "stdout",
     "output_type": "stream",
     "text": [
      "<class 'pandas.core.frame.DataFrame'>\n",
      "RangeIndex: 227 entries, 0 to 226\n",
      "Data columns (total 5 columns):\n",
      " #   Column      Non-Null Count  Dtype  \n",
      "---  ------      --------------  -----  \n",
      " 0   date        227 non-null    object \n",
      " 1   day         227 non-null    int64  \n",
      " 2   personnel   227 non-null    int64  \n",
      " 3   personnel*  227 non-null    object \n",
      " 4   POW         62 non-null     float64\n",
      "dtypes: float64(1), int64(2), object(2)\n",
      "memory usage: 9.0+ KB\n"
     ]
    }
   ],
   "source": [
    "smo_people.info()"
   ]
  },
  {
   "cell_type": "code",
   "execution_count": 6,
   "id": "9b87a31b",
   "metadata": {},
   "outputs": [],
   "source": [
    "smo_people = smo_people.drop(['personnel*', 'POW'], axis = 1)\n",
    "smo_people.to_csv('Visualization/smo_people_loss.csv')"
   ]
  },
  {
   "cell_type": "code",
   "execution_count": 7,
   "id": "00a035e9",
   "metadata": {},
   "outputs": [
    {
     "name": "stdout",
     "output_type": "stream",
     "text": [
      "<class 'pandas.core.frame.DataFrame'>\n",
      "RangeIndex: 227 entries, 0 to 226\n",
      "Data columns (total 18 columns):\n",
      " #   Column                     Non-Null Count  Dtype  \n",
      "---  ------                     --------------  -----  \n",
      " 0   date                       227 non-null    object \n",
      " 1   day                        227 non-null    int64  \n",
      " 2   aircraft                   227 non-null    int64  \n",
      " 3   helicopter                 227 non-null    int64  \n",
      " 4   tank                       227 non-null    int64  \n",
      " 5   APC                        227 non-null    int64  \n",
      " 6   field artillery            227 non-null    int64  \n",
      " 7   MRL                        227 non-null    int64  \n",
      " 8   military auto              65 non-null     float64\n",
      " 9   fuel tank                  65 non-null     float64\n",
      " 10  drone                      227 non-null    int64  \n",
      " 11  naval ship                 227 non-null    int64  \n",
      " 12  anti-aircraft warfare      227 non-null    int64  \n",
      " 13  special equipment          208 non-null    float64\n",
      " 14  mobile SRBM system         36 non-null     float64\n",
      " 15  greatest losses direction  164 non-null    object \n",
      " 16  vehicles and fuel tanks    162 non-null    float64\n",
      " 17  cruise missiles            162 non-null    float64\n",
      "dtypes: float64(6), int64(10), object(2)\n",
      "memory usage: 32.0+ KB\n"
     ]
    }
   ],
   "source": [
    "smo_equipment.info()"
   ]
  },
  {
   "cell_type": "markdown",
   "id": "786c186d",
   "metadata": {},
   "source": [
    "#### Investigate \n",
    "   - *POW* and *personnel* in `smo_people`, \n",
    "   - *military auto* \\ *fuel tank* \\ *special equipment* \\ *mobile SRBM system* \\ *greatest losses direction* \\ *vehicles and fuel tanks* \\ *cruise missles* in `smo_equipment` for **reasons of NA values** "
   ]
  },
  {
   "cell_type": "code",
   "execution_count": 8,
   "id": "0fb94f79",
   "metadata": {},
   "outputs": [
    {
     "data": {
      "text/plain": [
       "<AxesSubplot:>"
      ]
     },
     "execution_count": 8,
     "metadata": {},
     "output_type": "execute_result"
    },
    {
     "data": {
      "image/png": "[encoded data removed]",
      "text/plain": [
       "<Figure size 432x288 with 1 Axes>"
      ]
     },
     "metadata": {
      "needs_background": "light"
     },
     "output_type": "display_data"
    }
   ],
   "source": [
    "sns.lineplot(data=smo_equipment)"
   ]
  },
  {
   "cell_type": "code",
   "execution_count": 9,
   "id": "72b57bcf",
   "metadata": {},
   "outputs": [
    {
     "data": {
      "text/plain": [
       "<AxesSubplot:>"
      ]
     },
     "execution_count": 9,
     "metadata": {},
     "output_type": "execute_result"
    },
    {
     "data": {
      "image/png": "[encoded data removed]",
      "text/plain": [
       "<Figure size 432x288 with 1 Axes>"
      ]
     },
     "metadata": {
      "needs_background": "light"
     },
     "output_type": "display_data"
    }
   ],
   "source": [
    "large_equipment_loss = smo_equipment[['APC', 'military auto', 'vehicles and fuel tanks', 'tank', 'drone']]\n",
    "sns.lineplot(data=large_equipment_loss)"
   ]
  },
  {
   "cell_type": "markdown",
   "id": "e82b2b45",
   "metadata": {},
   "source": [
    "#### ***military auto*** and ***vehicles and fuel tanks*** are the same feature, we will call them as `military auto`\n",
    "- In addition, ***special equipment***, ***mobile SRBM system***, ***cruise missiles*** will be dropped for lack of meaning/interpretation (What does a loss in ***cruise missiles*** mean? Don't missiles supposed be destroyed upon impact?)"
   ]
  },
  {
   "cell_type": "code",
   "execution_count": 10,
   "id": "0ae4f70f",
   "metadata": {},
   "outputs": [
    {
     "data": {
      "text/html": [
       "<div>\n",
       "<style scoped>\n",
       "    .dataframe tbody tr th:only-of-type {\n",
       "        vertical-align: middle;\n",
       "    }\n",
       "\n",
       "    .dataframe tbody tr th {\n",
       "        vertical-align: top;\n",
       "    }\n",
       "\n",
       "    .dataframe thead th {\n",
       "        text-align: right;\n",
       "    }\n",
       "</style>\n",
       "<table border=\"1\" class=\"dataframe\">\n",
       "  <thead>\n",
       "    <tr style=\"text-align: right;\">\n",
       "      <th></th>\n",
       "      <th>date</th>\n",
       "      <th>day</th>\n",
       "      <th>aircraft</th>\n",
       "      <th>helicopter</th>\n",
       "      <th>tank</th>\n",
       "      <th>APC</th>\n",
       "      <th>field artillery</th>\n",
       "      <th>MRL</th>\n",
       "      <th>drone</th>\n",
       "      <th>naval ship</th>\n",
       "      <th>anti-aircraft warfare</th>\n",
       "    </tr>\n",
       "  </thead>\n",
       "  <tbody>\n",
       "    <tr>\n",
       "      <th>26</th>\n",
       "      <td>2022-03-23</td>\n",
       "      <td>28</td>\n",
       "      <td>101</td>\n",
       "      <td>124</td>\n",
       "      <td>517</td>\n",
       "      <td>1578</td>\n",
       "      <td>267</td>\n",
       "      <td>80</td>\n",
       "      <td>42</td>\n",
       "      <td>4</td>\n",
       "      <td>47</td>\n",
       "    </tr>\n",
       "    <tr>\n",
       "      <th>59</th>\n",
       "      <td>2022-04-25</td>\n",
       "      <td>61</td>\n",
       "      <td>181</td>\n",
       "      <td>154</td>\n",
       "      <td>884</td>\n",
       "      <td>2258</td>\n",
       "      <td>411</td>\n",
       "      <td>149</td>\n",
       "      <td>201</td>\n",
       "      <td>8</td>\n",
       "      <td>69</td>\n",
       "    </tr>\n",
       "    <tr>\n",
       "      <th>220</th>\n",
       "      <td>2022-10-03</td>\n",
       "      <td>222</td>\n",
       "      <td>265</td>\n",
       "      <td>228</td>\n",
       "      <td>2380</td>\n",
       "      <td>4991</td>\n",
       "      <td>1405</td>\n",
       "      <td>338</td>\n",
       "      <td>1026</td>\n",
       "      <td>15</td>\n",
       "      <td>176</td>\n",
       "    </tr>\n",
       "    <tr>\n",
       "      <th>187</th>\n",
       "      <td>2022-08-31</td>\n",
       "      <td>189</td>\n",
       "      <td>234</td>\n",
       "      <td>204</td>\n",
       "      <td>1974</td>\n",
       "      <td>4312</td>\n",
       "      <td>1091</td>\n",
       "      <td>285</td>\n",
       "      <td>849</td>\n",
       "      <td>15</td>\n",
       "      <td>152</td>\n",
       "    </tr>\n",
       "    <tr>\n",
       "      <th>149</th>\n",
       "      <td>2022-07-24</td>\n",
       "      <td>151</td>\n",
       "      <td>221</td>\n",
       "      <td>188</td>\n",
       "      <td>1722</td>\n",
       "      <td>3942</td>\n",
       "      <td>869</td>\n",
       "      <td>255</td>\n",
       "      <td>714</td>\n",
       "      <td>15</td>\n",
       "      <td>113</td>\n",
       "    </tr>\n",
       "  </tbody>\n",
       "</table>\n",
       "</div>"
      ],
      "text/plain": [
       "           date  day  aircraft  helicopter  tank   APC  field artillery  MRL  \\\n",
       "26   2022-03-23   28       101         124   517  1578              267   80   \n",
       "59   2022-04-25   61       181         154   884  2258              411  149   \n",
       "220  2022-10-03  222       265         228  2380  4991             1405  338   \n",
       "187  2022-08-31  189       234         204  1974  4312             1091  285   \n",
       "149  2022-07-24  151       221         188  1722  3942              869  255   \n",
       "\n",
       "     drone  naval ship  anti-aircraft warfare  \n",
       "26      42           4                     47  \n",
       "59     201           8                     69  \n",
       "220   1026          15                    176  \n",
       "187    849          15                    152  \n",
       "149    714          15                    113  "
      ]
     },
     "execution_count": 10,
     "metadata": {},
     "output_type": "execute_result"
    }
   ],
   "source": [
    "greatest_losses_direction = smo_equipment[['date', 'greatest losses direction']]\n",
    "smo_equipment_final = smo_equipment.drop(['special equipment','mobile SRBM system','cruise missiles', 'greatest losses direction','fuel tank'], axis=1)\n",
    "military_auto = pd.concat([smo_equipment_final['military auto'], smo_equipment_final['vehicles and fuel tanks']]).dropna().reset_index(drop=True)\n",
    "smo_equipment_final = smo_equipment_final.drop(['military auto', 'vehicles and fuel tanks'], axis=1)\n",
    "smo_equipment_final.sample(5)"
   ]
  },
  {
   "cell_type": "code",
   "execution_count": 11,
   "id": "3ef1c953",
   "metadata": {},
   "outputs": [],
   "source": [
    "smo_equipment_final = pd.concat([smo_equipment_final, military_auto], axis=1)\n",
    "smo_equipment_final = smo_equipment_final.rename(columns={0: 'military auto'}).reset_index(drop=True)\n",
    "smo_equipment_final['military auto'] = smo_equipment_final['military auto'].astype('int64')\n",
    "\n",
    "smo_equipment_final.to_csv('Visualization/daily_cummulative_loss_count.csv')"
   ]
  },
  {
   "cell_type": "code",
   "execution_count": 12,
   "id": "75f5b6ac",
   "metadata": {
    "scrolled": true
   },
   "outputs": [],
   "source": [
    "smo_equipment_month = smo_equipment_final\n",
    "smo_equipment_month['date'] = pd.to_datetime(smo_equipment_month['date']).dt.to_period('M')\n",
    "smo_equipment_month = smo_equipment_month.drop_duplicates(['date'], keep='last').reset_index(drop=True)\n",
    "smo_equipment_month = smo_equipment_month.drop('day', axis=1)\n",
    "# month = pd.DataFrame(data = {'month':['February', 'March', 'April', 'May', 'June', 'July', 'August', 'September', 'October']})\n",
    "# smo_equipment_month = pd.concat([month, smo_equipment_month], axis=1)\n",
    "# smo_equipment_month.head(10)\n",
    "\n",
    "smo_equipment_month.to_csv('Visualization/monthly_cummulative_loss_count.csv')"
   ]
  },
  {
   "cell_type": "code",
   "execution_count": 13,
   "id": "f93c5682",
   "metadata": {
    "scrolled": true
   },
   "outputs": [
    {
     "name": "stdout",
     "output_type": "stream",
     "text": [
      "<class 'pandas.core.frame.DataFrame'>\n",
      "RangeIndex: 9 entries, 0 to 8\n",
      "Data columns (total 11 columns):\n",
      " #   Column                 Non-Null Count  Dtype    \n",
      "---  ------                 --------------  -----    \n",
      " 0   date                   9 non-null      period[M]\n",
      " 1   aircraft               9 non-null      int64    \n",
      " 2   helicopter             9 non-null      int64    \n",
      " 3   tank                   9 non-null      int64    \n",
      " 4   APC                    9 non-null      int64    \n",
      " 5   field artillery        9 non-null      int64    \n",
      " 6   MRL                    9 non-null      int64    \n",
      " 7   drone                  9 non-null      int64    \n",
      " 8   naval ship             9 non-null      int64    \n",
      " 9   anti-aircraft warfare  9 non-null      int64    \n",
      " 10  military auto          9 non-null      int64    \n",
      "dtypes: int64(10), period[M](1)\n",
      "memory usage: 920.0 bytes\n"
     ]
    }
   ],
   "source": [
    "smo_equipment_month.info()"
   ]
  },
  {
   "cell_type": "markdown",
   "id": "9dbbb4f3",
   "metadata": {},
   "source": [
    "### Bin data into `month` and convert value into `USD` for better overall loss picture\n",
    "\n",
    "#### Conversion Chart:\n",
    "- **aircraft (15,000,000 USD/Unit)**: We used average cost of a SU-27 as the benchmark as they consist a big portion of Russian Air Force. Although there are many more older second/third gen airframes, the fact that more advanced/expensive airframes have been shot down multiple times (SU-34, SU-35) should make up for the value difference, thus using a mid-point like SU-27 makes sense. [source](https://jets.fandom.com/wiki/Sukhoi_Su-27_Flanker)\n",
    "- **helicopter (8,000,000 USD/Unit)**: We used average cost of new model Mi-24 and older Ka-50. [source](https://military-history.fandom.com/wiki/Kamov_Ka-50)\n",
    "- **tank (1,200,000 USD/Unit)**: An older T-72 frame cost around 0.8-1.2 million USD, a newer T-90M cost more than 2 million USD. Since lastest model of T-90 has been seen deserting on the battlefield, the 1.2 million average should be reasonable [source](https://en.wikipedia.org/wiki/T-72)\n",
    "- **APC(Armored Personnel Carrier) (400,000 USD/Unit)**: Average cost of a BTR-60/80\n",
    "- **field artillery (600,000 USD/Unit)**: Due to the high number of units here, we use 2S3 Akatsiya's data\n",
    "- **MRL (800,000 USD/Unit)**: BM-21/BM-27 as reference\n",
    "- **drone (100,000 USD/Unit)**: Orlan-10 as reference\n",
    "- **naval ship (10,000,000 USD/Unit)**: Since most ship sunk are patrol boats and smaller vessels, we will use a typical patrol boat value here and input Moskva loss (around 750 million) in April\n",
    "- **anti-aircraft warfare (5,000,000 USD/unit)**: This is a difficult one since the price range between a 23mm Shika, BUK, S-300/400 system can be huge, and we don't know if one unit means just one launcher or the entire anti-air group. Thus taking a conervative cost of 5 million/unit\n",
    "- **military auto (80,000 USD/unit)**: Uses Tigr as reference, fuel tanks should cost around 100,000 (averaging around 80k/unit)"
   ]
  },
  {
   "cell_type": "code",
   "execution_count": 14,
   "id": "3645d6f0",
   "metadata": {
    "scrolled": false
   },
   "outputs": [],
   "source": [
    "value_dict = {'aircraft': 15000000, 'helicopter': 8000000, 'tank': 1200000, 'APC': 400000, 'field artillery': 600000, 'MRL': 800000, 'drone': 100000, 'naval ship': 10000000, 'anti-aircraft warfare': 5000000, 'military auto': 80000}\n",
    "date_value = smo_equipment_month['date']\n",
    "\n",
    "smo_equipment_value = smo_equipment_month.drop('date', axis=1).mul(value_dict)\n",
    "smo_equipment_value.at[2, 'naval ship'] = 890000000\n",
    "for i in range (3, 9):\n",
    "    smo_equipment_value.at[i, 'naval ship'] = 900000000\n",
    "\n",
    "\n",
    "# smo_equipment_value['total value (us dollar)'] = smo_equipment_value.sum(axis=1)\n",
    "smo_equipment_value = pd.concat([date_value, smo_equipment_value], axis=1)"
   ]
  },
  {
   "cell_type": "code",
   "execution_count": 15,
   "id": "b57af766",
   "metadata": {
    "scrolled": false
   },
   "outputs": [
    {
     "data": {
      "text/plain": [
       "<AxesSubplot:>"
      ]
     },
     "execution_count": 15,
     "metadata": {},
     "output_type": "execute_result"
    },
    {
     "data": {
      "image/png": "[encoded data removed]",
      "text/plain": [
       "<Figure size 432x288 with 1 Axes>"
      ]
     },
     "metadata": {
      "needs_background": "light"
     },
     "output_type": "display_data"
    }
   ],
   "source": [
    "sns.lineplot(data=smo_equipment_value)"
   ]
  },
  {
   "cell_type": "code",
   "execution_count": 16,
   "id": "2f96c432",
   "metadata": {},
   "outputs": [],
   "source": [
    "smo_equipment_value.to_csv('Visualization/cummulative_loss_value.csv')"
   ]
  },
  {
   "cell_type": "code",
   "execution_count": 17,
   "id": "96dd207d",
   "metadata": {},
   "outputs": [
    {
     "data": {
      "text/plain": [
       "['Kurakhove and Izyum',\n",
       " 'Zaporizhzhia and Izyum',\n",
       " 'Izyum',\n",
       " 'Izyum, Novopavlivsk',\n",
       " 'Popasna',\n",
       " 'Lyman and Kurakhove',\n",
       " 'Slobozhanskyi',\n",
       " 'Novopavlivsk',\n",
       " 'Avdiivka',\n",
       " 'Novopavlivsk, Kurakhove and Sievierodonetsk',\n",
       " 'Kurakhove',\n",
       " 'Kurakhove and Avdiivka',\n",
       " 'Bakhmut and Zaporizhzhia',\n",
       " 'Lyman and Zaporizhzhia',\n",
       " 'Sloviansk, Kryvyi Rih and Zaporizhzhia',\n",
       " 'Bakhmut',\n",
       " 'Lyman',\n",
       " 'Avdiivka and Kryvyi Rih',\n",
       " 'Zaporizhzhia',\n",
       " 'Kryvyi Rih and Zaporizhzhia',\n",
       " 'Kryvyi Rih and Bakhmut',\n",
       " 'Sloviansk',\n",
       " 'Kharkiv and Bakhmut',\n",
       " 'Sievierodonetsk and Bakhmut',\n",
       " 'Bakhmut and Sievierodonetsk',\n",
       " 'Sloviansk, Bakhmut and Kryvyi Rih',\n",
       " 'Bakhmut and Avdiivka',\n",
       " 'Sloviansk, Bakhmut and Avdiivka',\n",
       " 'Sloviansk and Bakhmut',\n",
       " 'Bakhmut and Kurakhove',\n",
       " 'Kramatorsk and Bakhmut',\n",
       " 'Sloviansk and Donetsk',\n",
       " 'Avdiivka and Bakhmut',\n",
       " 'Kramatorsk',\n",
       " 'Mykolaiv',\n",
       " 'Kramatorsk, Kryvyi Rih and Bakhmut',\n",
       " 'Kryvyi Rih',\n",
       " 'Donetsk',\n",
       " 'Donetsk and Kryvyi Rih',\n",
       " 'Bakhmut and Kryvyi Rih',\n",
       " 'Bakhmut and Donetsk',\n",
       " 'Kharkiv and Donetsk',\n",
       " 'Donetsk and Mykolaiv',\n",
       " 'Donetsk and Kurakhove',\n",
       " 'Kryvyi Rih and Donetsk',\n",
       " 'Kryvyi Rih and Mykolaiv',\n",
       " 'Kramatorsk and Donetsk',\n",
       " 'Kramatorsk and Kryvyi Rih',\n",
       " 'Kramatorsk, Avdiivka and Kryvyi Rih',\n",
       " 'Donetsk, Bakhmut and Kramatorsk']"
      ]
     },
     "execution_count": 17,
     "metadata": {},
     "output_type": "execute_result"
    }
   ],
   "source": [
    "greatest_losses_direction = greatest_losses_direction.dropna().reset_index(drop=True)\n",
    "\n",
    "city_list = list(greatest_losses_direction['greatest losses direction'].unique())\n",
    "city_list = city_list[1:]\n",
    "\n",
    "\n",
    "# Counter(greatest_losses_direction['greatest losses direction'])\n",
    "city_list"
   ]
  },
  {
   "cell_type": "code",
   "execution_count": 18,
   "id": "418617f1",
   "metadata": {},
   "outputs": [],
   "source": [
    "ua_city = pd.read_csv('Raw Datasets/ua.csv')"
   ]
  },
  {
   "cell_type": "code",
   "execution_count": 19,
   "id": "5c1d5dbf",
   "metadata": {},
   "outputs": [
    {
     "data": {
      "text/html": [
       "<div>\n",
       "<style scoped>\n",
       "    .dataframe tbody tr th:only-of-type {\n",
       "        vertical-align: middle;\n",
       "    }\n",
       "\n",
       "    .dataframe tbody tr th {\n",
       "        vertical-align: top;\n",
       "    }\n",
       "\n",
       "    .dataframe thead th {\n",
       "        text-align: right;\n",
       "    }\n",
       "</style>\n",
       "<table border=\"1\" class=\"dataframe\">\n",
       "  <thead>\n",
       "    <tr style=\"text-align: right;\">\n",
       "      <th></th>\n",
       "      <th>city</th>\n",
       "      <th>lat</th>\n",
       "      <th>lng</th>\n",
       "      <th>country</th>\n",
       "      <th>iso2</th>\n",
       "      <th>admin_name</th>\n",
       "      <th>capital</th>\n",
       "      <th>population</th>\n",
       "      <th>population_proper</th>\n",
       "    </tr>\n",
       "  </thead>\n",
       "  <tbody>\n",
       "    <tr>\n",
       "      <th>1464</th>\n",
       "      <td>Kazanka</td>\n",
       "      <td>47.8381</td>\n",
       "      <td>32.8261</td>\n",
       "      <td>Ukraine</td>\n",
       "      <td>UA</td>\n",
       "      <td>Mykolayivs’ka Oblast’</td>\n",
       "      <td>minor</td>\n",
       "      <td>NaN</td>\n",
       "      <td>NaN</td>\n",
       "    </tr>\n",
       "    <tr>\n",
       "      <th>1465</th>\n",
       "      <td>Mykolaivka</td>\n",
       "      <td>47.5389</td>\n",
       "      <td>30.7528</td>\n",
       "      <td>Ukraine</td>\n",
       "      <td>UA</td>\n",
       "      <td>Odes’ka Oblast’</td>\n",
       "      <td>minor</td>\n",
       "      <td>NaN</td>\n",
       "      <td>NaN</td>\n",
       "    </tr>\n",
       "    <tr>\n",
       "      <th>1466</th>\n",
       "      <td>Milove</td>\n",
       "      <td>49.3778</td>\n",
       "      <td>40.1306</td>\n",
       "      <td>Ukraine</td>\n",
       "      <td>UA</td>\n",
       "      <td>Luhans’ka Oblast’</td>\n",
       "      <td>minor</td>\n",
       "      <td>NaN</td>\n",
       "      <td>NaN</td>\n",
       "    </tr>\n",
       "    <tr>\n",
       "      <th>1467</th>\n",
       "      <td>Nyzhni Sirohozy</td>\n",
       "      <td>46.8395</td>\n",
       "      <td>34.3760</td>\n",
       "      <td>Ukraine</td>\n",
       "      <td>UA</td>\n",
       "      <td>Khersons’ka Oblast’</td>\n",
       "      <td>minor</td>\n",
       "      <td>NaN</td>\n",
       "      <td>NaN</td>\n",
       "    </tr>\n",
       "    <tr>\n",
       "      <th>1468</th>\n",
       "      <td>Ivanivka</td>\n",
       "      <td>46.7100</td>\n",
       "      <td>34.5500</td>\n",
       "      <td>Ukraine</td>\n",
       "      <td>UA</td>\n",
       "      <td>Khersons’ka Oblast’</td>\n",
       "      <td>minor</td>\n",
       "      <td>NaN</td>\n",
       "      <td>NaN</td>\n",
       "    </tr>\n",
       "  </tbody>\n",
       "</table>\n",
       "</div>"
      ],
      "text/plain": [
       "                 city      lat      lng  country iso2             admin_name  \\\n",
       "1464          Kazanka  47.8381  32.8261  Ukraine   UA  Mykolayivs’ka Oblast’   \n",
       "1465       Mykolaivka  47.5389  30.7528  Ukraine   UA        Odes’ka Oblast’   \n",
       "1466           Milove  49.3778  40.1306  Ukraine   UA      Luhans’ka Oblast’   \n",
       "1467  Nyzhni Sirohozy  46.8395  34.3760  Ukraine   UA    Khersons’ka Oblast’   \n",
       "1468         Ivanivka  46.7100  34.5500  Ukraine   UA    Khersons’ka Oblast’   \n",
       "\n",
       "     capital  population  population_proper  \n",
       "1464   minor         NaN                NaN  \n",
       "1465   minor         NaN                NaN  \n",
       "1466   minor         NaN                NaN  \n",
       "1467   minor         NaN                NaN  \n",
       "1468   minor         NaN                NaN  "
      ]
     },
     "execution_count": 19,
     "metadata": {},
     "output_type": "execute_result"
    }
   ],
   "source": [
    "ua_city[ua_city.iso2 == 'UA'].tail(5)"
   ]
  },
  {
   "cell_type": "code",
   "execution_count": 20,
   "id": "1b3363c3",
   "metadata": {
    "scrolled": true
   },
   "outputs": [
    {
     "name": "stdout",
     "output_type": "stream",
     "text": [
      "<class 'pandas.core.frame.DataFrame'>\n",
      "RangeIndex: 1469 entries, 0 to 1468\n",
      "Data columns (total 9 columns):\n",
      " #   Column             Non-Null Count  Dtype  \n",
      "---  ------             --------------  -----  \n",
      " 0   city               1469 non-null   object \n",
      " 1   lat                1469 non-null   float64\n",
      " 2   lng                1469 non-null   float64\n",
      " 3   country            1469 non-null   object \n",
      " 4   iso2               1469 non-null   object \n",
      " 5   admin_name         1469 non-null   object \n",
      " 6   capital            320 non-null    object \n",
      " 7   population         1379 non-null   float64\n",
      " 8   population_proper  1379 non-null   float64\n",
      "dtypes: float64(4), object(5)\n",
      "memory usage: 103.4+ KB\n"
     ]
    }
   ],
   "source": [
    "ua_city.info()"
   ]
  },
  {
   "cell_type": "code",
   "execution_count": 21,
   "id": "5b74d2e9",
   "metadata": {},
   "outputs": [],
   "source": [
    "ua_city = ua_city.drop_duplicates(subset='city').reset_index(drop=True)"
   ]
  },
  {
   "cell_type": "code",
   "execution_count": 22,
   "id": "8bd40a62",
   "metadata": {},
   "outputs": [],
   "source": [
    "ua_city = ua_city.drop(['country', 'iso2', 'admin_name', 'capital', 'population'], axis=1)"
   ]
  },
  {
   "cell_type": "code",
   "execution_count": 23,
   "id": "36fecfa6",
   "metadata": {
    "scrolled": false
   },
   "outputs": [
    {
     "data": {
      "text/html": [
       "<div>\n",
       "<style scoped>\n",
       "    .dataframe tbody tr th:only-of-type {\n",
       "        vertical-align: middle;\n",
       "    }\n",
       "\n",
       "    .dataframe tbody tr th {\n",
       "        vertical-align: top;\n",
       "    }\n",
       "\n",
       "    .dataframe thead th {\n",
       "        text-align: right;\n",
       "    }\n",
       "</style>\n",
       "<table border=\"1\" class=\"dataframe\">\n",
       "  <thead>\n",
       "    <tr style=\"text-align: right;\">\n",
       "      <th></th>\n",
       "      <th>city</th>\n",
       "      <th>lat</th>\n",
       "      <th>lng</th>\n",
       "      <th>population_proper</th>\n",
       "    </tr>\n",
       "  </thead>\n",
       "  <tbody>\n",
       "    <tr>\n",
       "      <th>0</th>\n",
       "      <td>Kyiv</td>\n",
       "      <td>50.4500</td>\n",
       "      <td>30.5236</td>\n",
       "      <td>2963199.0</td>\n",
       "    </tr>\n",
       "    <tr>\n",
       "      <th>1</th>\n",
       "      <td>Kharkiv</td>\n",
       "      <td>50.0000</td>\n",
       "      <td>36.2292</td>\n",
       "      <td>1446107.0</td>\n",
       "    </tr>\n",
       "    <tr>\n",
       "      <th>2</th>\n",
       "      <td>Odesa</td>\n",
       "      <td>46.4775</td>\n",
       "      <td>30.7326</td>\n",
       "      <td>1017699.0</td>\n",
       "    </tr>\n",
       "    <tr>\n",
       "      <th>3</th>\n",
       "      <td>Dnipro</td>\n",
       "      <td>48.4500</td>\n",
       "      <td>34.9833</td>\n",
       "      <td>1002111.0</td>\n",
       "    </tr>\n",
       "    <tr>\n",
       "      <th>4</th>\n",
       "      <td>Donetsk</td>\n",
       "      <td>48.0089</td>\n",
       "      <td>37.8042</td>\n",
       "      <td>929063.0</td>\n",
       "    </tr>\n",
       "  </tbody>\n",
       "</table>\n",
       "</div>"
      ],
      "text/plain": [
       "      city      lat      lng  population_proper\n",
       "0     Kyiv  50.4500  30.5236          2963199.0\n",
       "1  Kharkiv  50.0000  36.2292          1446107.0\n",
       "2    Odesa  46.4775  30.7326          1017699.0\n",
       "3   Dnipro  48.4500  34.9833          1002111.0\n",
       "4  Donetsk  48.0089  37.8042           929063.0"
      ]
     },
     "execution_count": 23,
     "metadata": {},
     "output_type": "execute_result"
    }
   ],
   "source": [
    "ua_city.head(5)"
   ]
  },
  {
   "cell_type": "code",
   "execution_count": 24,
   "id": "cc4cbc5b",
   "metadata": {},
   "outputs": [],
   "source": [
    "final_city_dict = {}\n",
    "for index, row in ua_city.iterrows():\n",
    "    i = 0\n",
    "    for iindex, rrow in greatest_losses_direction.iterrows():\n",
    "        if row['city'] in rrow['greatest losses direction']:\n",
    "            i += 1\n",
    "            final_city_dict[row['city']] = i\n",
    "            "
   ]
  },
  {
   "cell_type": "code",
   "execution_count": 25,
   "id": "f1b1a6f8",
   "metadata": {},
   "outputs": [],
   "source": [
    "final_city_list = []\n",
    "final_freq_list = []\n",
    "\n",
    "for key, value in final_city_dict.items():\n",
    "    final_city_list.append(key)\n",
    "    final_freq_list.append(value)"
   ]
  },
  {
   "cell_type": "code",
   "execution_count": 26,
   "id": "21290f5f",
   "metadata": {},
   "outputs": [
    {
     "data": {
      "text/html": [
       "<div>\n",
       "<style scoped>\n",
       "    .dataframe tbody tr th:only-of-type {\n",
       "        vertical-align: middle;\n",
       "    }\n",
       "\n",
       "    .dataframe tbody tr th {\n",
       "        vertical-align: top;\n",
       "    }\n",
       "\n",
       "    .dataframe thead th {\n",
       "        text-align: right;\n",
       "    }\n",
       "</style>\n",
       "<table border=\"1\" class=\"dataframe\">\n",
       "  <thead>\n",
       "    <tr style=\"text-align: right;\">\n",
       "      <th></th>\n",
       "      <th>city</th>\n",
       "      <th>lat</th>\n",
       "      <th>lon</th>\n",
       "      <th>population_proper</th>\n",
       "      <th>frequency</th>\n",
       "    </tr>\n",
       "  </thead>\n",
       "  <tbody>\n",
       "    <tr>\n",
       "      <th>0</th>\n",
       "      <td>Kharkiv</td>\n",
       "      <td>50.0000</td>\n",
       "      <td>36.2292</td>\n",
       "      <td>1446107</td>\n",
       "      <td>61</td>\n",
       "    </tr>\n",
       "    <tr>\n",
       "      <th>1</th>\n",
       "      <td>Donetsk</td>\n",
       "      <td>48.0089</td>\n",
       "      <td>37.8042</td>\n",
       "      <td>929063</td>\n",
       "      <td>54</td>\n",
       "    </tr>\n",
       "    <tr>\n",
       "      <th>2</th>\n",
       "      <td>Zaporizhzhia</td>\n",
       "      <td>47.8378</td>\n",
       "      <td>35.1383</td>\n",
       "      <td>741717</td>\n",
       "      <td>27</td>\n",
       "    </tr>\n",
       "    <tr>\n",
       "      <th>3</th>\n",
       "      <td>Kryvyi Rih</td>\n",
       "      <td>47.9086</td>\n",
       "      <td>33.3433</td>\n",
       "      <td>629695</td>\n",
       "      <td>22</td>\n",
       "    </tr>\n",
       "    <tr>\n",
       "      <th>4</th>\n",
       "      <td>Mykolaiv</td>\n",
       "      <td>46.9667</td>\n",
       "      <td>32.0000</td>\n",
       "      <td>498748</td>\n",
       "      <td>12</td>\n",
       "    </tr>\n",
       "    <tr>\n",
       "      <th>5</th>\n",
       "      <td>Kramatorsk</td>\n",
       "      <td>48.7208</td>\n",
       "      <td>37.5556</td>\n",
       "      <td>159445</td>\n",
       "      <td>11</td>\n",
       "    </tr>\n",
       "    <tr>\n",
       "      <th>6</th>\n",
       "      <td>Sievierodonetsk</td>\n",
       "      <td>48.9500</td>\n",
       "      <td>38.4833</td>\n",
       "      <td>150000</td>\n",
       "      <td>10</td>\n",
       "    </tr>\n",
       "    <tr>\n",
       "      <th>7</th>\n",
       "      <td>Sloviansk</td>\n",
       "      <td>48.8700</td>\n",
       "      <td>37.6250</td>\n",
       "      <td>113196</td>\n",
       "      <td>7</td>\n",
       "    </tr>\n",
       "    <tr>\n",
       "      <th>8</th>\n",
       "      <td>Bakhmut</td>\n",
       "      <td>48.6044</td>\n",
       "      <td>38.0067</td>\n",
       "      <td>75798</td>\n",
       "      <td>7</td>\n",
       "    </tr>\n",
       "    <tr>\n",
       "      <th>9</th>\n",
       "      <td>Avdiivka</td>\n",
       "      <td>48.1333</td>\n",
       "      <td>37.7500</td>\n",
       "      <td>34938</td>\n",
       "      <td>4</td>\n",
       "    </tr>\n",
       "    <tr>\n",
       "      <th>10</th>\n",
       "      <td>Lyman</td>\n",
       "      <td>48.9861</td>\n",
       "      <td>37.8111</td>\n",
       "      <td>22315</td>\n",
       "      <td>3</td>\n",
       "    </tr>\n",
       "  </tbody>\n",
       "</table>\n",
       "</div>"
      ],
      "text/plain": [
       "               city      lat      lon  population_proper  frequency\n",
       "0           Kharkiv  50.0000  36.2292            1446107         61\n",
       "1           Donetsk  48.0089  37.8042             929063         54\n",
       "2      Zaporizhzhia  47.8378  35.1383             741717         27\n",
       "3        Kryvyi Rih  47.9086  33.3433             629695         22\n",
       "4          Mykolaiv  46.9667  32.0000             498748         12\n",
       "5        Kramatorsk  48.7208  37.5556             159445         11\n",
       "6   Sievierodonetsk  48.9500  38.4833             150000         10\n",
       "7         Sloviansk  48.8700  37.6250             113196          7\n",
       "8           Bakhmut  48.6044  38.0067              75798          7\n",
       "9          Avdiivka  48.1333  37.7500              34938          4\n",
       "10            Lyman  48.9861  37.8111              22315          3"
      ]
     },
     "execution_count": 26,
     "metadata": {},
     "output_type": "execute_result"
    }
   ],
   "source": [
    "ua_city = ua_city[ua_city['city'].isin(final_city_list)].reset_index(drop=True)\n",
    "city_df = pd.DataFrame(data={'city name': final_city_list, 'frequency': final_freq_list}).sort_values(by='frequency', ascending=False).reset_index(drop=True)\n",
    "ua_city = pd.concat([ua_city, city_df['frequency']], axis=1).reset_index(drop=True)\n",
    "ua_city['population_proper'] = ua_city['population_proper'].astype('int64')\n",
    "ua_city = ua_city.rename(columns={'lng': 'lon'}).reset_index(drop=True)\n",
    "ua_city"
   ]
  },
  {
   "cell_type": "code",
   "execution_count": 27,
   "id": "c9a485c7",
   "metadata": {},
   "outputs": [],
   "source": [
    "ua_city.to_csv('Visualization/most_contested_city.csv')"
   ]
  }
 ],
 "metadata": {
  "kernelspec": {
   "display_name": "Python 3 (ipykernel)",
   "language": "python",
   "name": "python3"
  },
  "language_info": {
   "codemirror_mode": {
    "name": "ipython",
    "version": 3
   },
   "file_extension": ".py",
   "mimetype": "text/x-python",
   "name": "python",
   "nbconvert_exporter": "python",
   "pygments_lexer": "ipython3",
   "version": "3.10.2"
  }
 },
 "nbformat": 4,
 "nbformat_minor": 5
}
